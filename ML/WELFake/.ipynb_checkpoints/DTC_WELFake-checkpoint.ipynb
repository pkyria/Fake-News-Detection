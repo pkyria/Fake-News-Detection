{
 "cells": [
  {
   "cell_type": "code",
   "execution_count": 1,
   "id": "5a7df0d6",
   "metadata": {},
   "outputs": [],
   "source": [
    "import pandas as pd\n",
    "import numpy as np\n",
    "from sklearn.model_selection import train_test_split\n",
    "from sklearn.feature_extraction.text import CountVectorizer, TfidfVectorizer\n",
    "from sklearn import preprocessing\n",
    "from sklearn.metrics import accuracy_score, classification_report, roc_auc_score, make_scorer\n",
    "import matplotlib.pyplot as plt\n",
    "import matplotlib.colors as mcolors\n",
    "import seaborn as sns\n",
    "import joblib\n",
    "\n",
    "import spacy\n",
    "import contractions\n",
    "import string\n",
    "import re\n",
    "from bs4 import BeautifulSoup\n",
    "from unidecode import unidecode\n",
    "import nltk\n",
    "import swifter\n",
    "from nltk.corpus import stopwords\n",
    "#nltk.download('stopwords')\n",
    "#nltk.download('punkt')\n",
    "#nltk.download('wordnet')\n",
    "#nltk.download('omw-1.4')\n",
    "\n",
    "from sklearn.pipeline import Pipeline\n",
    "from transformers import AutoTokenizer\n",
    "from nltk.stem import WordNetLemmatizer\n",
    "from sklearn.feature_extraction.text import CountVectorizer, TfidfVectorizer\n",
    "from sklearn.metrics import confusion_matrix , classification_report, ConfusionMatrixDisplay\n",
    "from multiprocessing import Pool\n",
    "from sklearn.feature_extraction.text import HashingVectorizer\n",
    "\n",
    "\n",
    "from sklearn.tree import DecisionTreeClassifier\n",
    "from sklearn.model_selection import RandomizedSearchCV, GridSearchCV"
   ]
  },
  {
   "cell_type": "code",
   "execution_count": 2,
   "id": "1ac7bbd0",
   "metadata": {},
   "outputs": [],
   "source": [
    "liar_train_df = pd.read_csv('LIAR_preprocessed_lemmatized_dataset.csv')"
   ]
  },
  {
   "cell_type": "code",
   "execution_count": 3,
   "id": "19aa5e18",
   "metadata": {},
   "outputs": [
    {
     "name": "stdout",
     "output_type": "stream",
     "text": [
      "false    6968\n",
      "true     5819\n",
      "Name: Label, dtype: int64\n"
     ]
    }
   ],
   "source": [
    "#Renaming non-binary true or fake news into binary for liar_test_df\n",
    "half_true_count = liar_train_df['Label'].value_counts()['half-true']\n",
    "half_true_split_count = half_true_count // 2\n",
    "half_true_indices = liar_train_df[liar_train_df['Label'] == 'half-true'].index\n",
    "\n",
    "true_indices = np.random.choice(half_true_indices, size=half_true_split_count, replace=False)\n",
    "\n",
    "liar_train_df.loc[true_indices, 'Label'] = 'true'\n",
    "\n",
    "\n",
    "false_indices = np.setdiff1d(half_true_indices, true_indices)\n",
    "liar_train_df.loc[false_indices, 'Label'] = 'false'\n",
    "\n",
    "liar_train_df['Label'] = liar_train_df['Label'].str.lower().replace('FALSE', 'false')\n",
    "liar_train_df['Label'] = liar_train_df['Label'].str.lower().replace('TRUE', 'true')\n",
    "\n",
    "value_mapping = {\n",
    "    'barely-true': 'false',\n",
    "    'pants-fire': 'false',\n",
    "    'mostly-true': 'true'\n",
    "}\n",
    "\n",
    "liar_train_df['Label'] = liar_train_df['Label'].map(value_mapping).fillna(liar_train_df['Label'])\n",
    "\n",
    "column_counts = liar_train_df['Label'].value_counts()\n",
    "print(column_counts)"
   ]
  },
  {
   "cell_type": "code",
   "execution_count": 4,
   "id": "b182499d",
   "metadata": {},
   "outputs": [],
   "source": [
    "X = liar_train_df['text']\n",
    "y = liar_train_df['Label']"
   ]
  },
  {
   "cell_type": "code",
   "execution_count": 5,
   "id": "13984c95",
   "metadata": {},
   "outputs": [],
   "source": [
    "X_train, X_test, y_train, y_test = train_test_split(X, y, test_size = 0.25, random_state = 40)"
   ]
  },
  {
   "cell_type": "code",
   "execution_count": 6,
   "id": "054c891a",
   "metadata": {},
   "outputs": [],
   "source": [
    "vectorizer = CountVectorizer(ngram_range=(1,1), stop_words='english')\n",
    "X_train_bow = vectorizer.fit_transform(X_train)\n",
    "X_test_bow = vectorizer.transform(X_test)\n",
    "\n",
    "X_train_bow = preprocessing.normalize(X_train_bow)\n",
    "X_test_bow = preprocessing.normalize(X_test_bow) "
   ]
  },
  {
   "cell_type": "code",
   "execution_count": 7,
   "id": "6def90c8",
   "metadata": {},
   "outputs": [
    {
     "name": "stdout",
     "output_type": "stream",
     "text": [
      "The most optimal parameters for MultinomialNB are:  {'min_samples_leaf': 3, 'max_features': 8, 'criterion': 'entropy'}\n",
      "The precision that model can reach for the current model 54.337875947269595\n"
     ]
    }
   ],
   "source": [
    " #-------------- Randomized Search CV --------------\n",
    "\n",
    "testing_parameters = { \n",
    "                        'criterion': ['gini', 'entropy'],\n",
    "                        'min_samples_leaf': np.arange(1, 9, 1),\n",
    "                        'max_features': np.arange(1, 9, 1)\n",
    "                                          }\n",
    "\n",
    "model_random_search = RandomizedSearchCV(DecisionTreeClassifier(), testing_parameters, scoring='accuracy', n_jobs = 4, cv=3 )\n",
    "model_random_search.fit(X_train_bow, y_train)\n",
    "\n",
    "print(\"The most optimal parameters for MultinomialNB are: \",model_random_search.best_params_)\n",
    "print(\"The precision that model can reach for the current model\",model_random_search.best_score_*100) "
   ]
  },
  {
   "cell_type": "code",
   "execution_count": 7,
   "id": "980b83aa",
   "metadata": {},
   "outputs": [],
   "source": [
    "DTC = DecisionTreeClassifier() # Better acc with param defaults"
   ]
  },
  {
   "cell_type": "code",
   "execution_count": 8,
   "id": "7e905c77",
   "metadata": {},
   "outputs": [
    {
     "data": {
      "text/html": [
       "<style>#sk-container-id-1 {color: black;background-color: white;}#sk-container-id-1 pre{padding: 0;}#sk-container-id-1 div.sk-toggleable {background-color: white;}#sk-container-id-1 label.sk-toggleable__label {cursor: pointer;display: block;width: 100%;margin-bottom: 0;padding: 0.3em;box-sizing: border-box;text-align: center;}#sk-container-id-1 label.sk-toggleable__label-arrow:before {content: \"▸\";float: left;margin-right: 0.25em;color: #696969;}#sk-container-id-1 label.sk-toggleable__label-arrow:hover:before {color: black;}#sk-container-id-1 div.sk-estimator:hover label.sk-toggleable__label-arrow:before {color: black;}#sk-container-id-1 div.sk-toggleable__content {max-height: 0;max-width: 0;overflow: hidden;text-align: left;background-color: #f0f8ff;}#sk-container-id-1 div.sk-toggleable__content pre {margin: 0.2em;color: black;border-radius: 0.25em;background-color: #f0f8ff;}#sk-container-id-1 input.sk-toggleable__control:checked~div.sk-toggleable__content {max-height: 200px;max-width: 100%;overflow: auto;}#sk-container-id-1 input.sk-toggleable__control:checked~label.sk-toggleable__label-arrow:before {content: \"▾\";}#sk-container-id-1 div.sk-estimator input.sk-toggleable__control:checked~label.sk-toggleable__label {background-color: #d4ebff;}#sk-container-id-1 div.sk-label input.sk-toggleable__control:checked~label.sk-toggleable__label {background-color: #d4ebff;}#sk-container-id-1 input.sk-hidden--visually {border: 0;clip: rect(1px 1px 1px 1px);clip: rect(1px, 1px, 1px, 1px);height: 1px;margin: -1px;overflow: hidden;padding: 0;position: absolute;width: 1px;}#sk-container-id-1 div.sk-estimator {font-family: monospace;background-color: #f0f8ff;border: 1px dotted black;border-radius: 0.25em;box-sizing: border-box;margin-bottom: 0.5em;}#sk-container-id-1 div.sk-estimator:hover {background-color: #d4ebff;}#sk-container-id-1 div.sk-parallel-item::after {content: \"\";width: 100%;border-bottom: 1px solid gray;flex-grow: 1;}#sk-container-id-1 div.sk-label:hover label.sk-toggleable__label {background-color: #d4ebff;}#sk-container-id-1 div.sk-serial::before {content: \"\";position: absolute;border-left: 1px solid gray;box-sizing: border-box;top: 0;bottom: 0;left: 50%;z-index: 0;}#sk-container-id-1 div.sk-serial {display: flex;flex-direction: column;align-items: center;background-color: white;padding-right: 0.2em;padding-left: 0.2em;position: relative;}#sk-container-id-1 div.sk-item {position: relative;z-index: 1;}#sk-container-id-1 div.sk-parallel {display: flex;align-items: stretch;justify-content: center;background-color: white;position: relative;}#sk-container-id-1 div.sk-item::before, #sk-container-id-1 div.sk-parallel-item::before {content: \"\";position: absolute;border-left: 1px solid gray;box-sizing: border-box;top: 0;bottom: 0;left: 50%;z-index: -1;}#sk-container-id-1 div.sk-parallel-item {display: flex;flex-direction: column;z-index: 1;position: relative;background-color: white;}#sk-container-id-1 div.sk-parallel-item:first-child::after {align-self: flex-end;width: 50%;}#sk-container-id-1 div.sk-parallel-item:last-child::after {align-self: flex-start;width: 50%;}#sk-container-id-1 div.sk-parallel-item:only-child::after {width: 0;}#sk-container-id-1 div.sk-dashed-wrapped {border: 1px dashed gray;margin: 0 0.4em 0.5em 0.4em;box-sizing: border-box;padding-bottom: 0.4em;background-color: white;}#sk-container-id-1 div.sk-label label {font-family: monospace;font-weight: bold;display: inline-block;line-height: 1.2em;}#sk-container-id-1 div.sk-label-container {text-align: center;}#sk-container-id-1 div.sk-container {/* jupyter's `normalize.less` sets `[hidden] { display: none; }` but bootstrap.min.css set `[hidden] { display: none !important; }` so we also need the `!important` here to be able to override the default hidden behavior on the sphinx rendered scikit-learn.org. See: https://github.com/scikit-learn/scikit-learn/issues/21755 */display: inline-block !important;position: relative;}#sk-container-id-1 div.sk-text-repr-fallback {display: none;}</style><div id=\"sk-container-id-1\" class=\"sk-top-container\"><div class=\"sk-text-repr-fallback\"><pre>DecisionTreeClassifier()</pre><b>In a Jupyter environment, please rerun this cell to show the HTML representation or trust the notebook. <br />On GitHub, the HTML representation is unable to render, please try loading this page with nbviewer.org.</b></div><div class=\"sk-container\" hidden><div class=\"sk-item\"><div class=\"sk-estimator sk-toggleable\"><input class=\"sk-toggleable__control sk-hidden--visually\" id=\"sk-estimator-id-1\" type=\"checkbox\" checked><label for=\"sk-estimator-id-1\" class=\"sk-toggleable__label sk-toggleable__label-arrow\">DecisionTreeClassifier</label><div class=\"sk-toggleable__content\"><pre>DecisionTreeClassifier()</pre></div></div></div></div></div>"
      ],
      "text/plain": [
       "DecisionTreeClassifier()"
      ]
     },
     "execution_count": 8,
     "metadata": {},
     "output_type": "execute_result"
    }
   ],
   "source": [
    "DTC.fit(X_train_bow, y_train)"
   ]
  },
  {
   "cell_type": "code",
   "execution_count": 9,
   "id": "5c83fadb",
   "metadata": {},
   "outputs": [],
   "source": [
    "prd = DTC.predict(X_test_bow) "
   ]
  },
  {
   "cell_type": "code",
   "execution_count": 10,
   "id": "a6c5f277",
   "metadata": {},
   "outputs": [
    {
     "name": "stdout",
     "output_type": "stream",
     "text": [
      "              precision    recall  f1-score   support\n",
      "\n",
      "       false       0.60      0.60      0.60      1784\n",
      "        true       0.50      0.50      0.50      1413\n",
      "\n",
      "    accuracy                           0.55      3197\n",
      "   macro avg       0.55      0.55      0.55      3197\n",
      "weighted avg       0.55      0.55      0.55      3197\n",
      "\n"
     ]
    }
   ],
   "source": [
    "print(classification_report(y_test, prd))"
   ]
  },
  {
   "cell_type": "code",
   "execution_count": 11,
   "id": "f36fff57",
   "metadata": {},
   "outputs": [
    {
     "name": "stdout",
     "output_type": "stream",
     "text": [
      "Accuracy:  0.5536440412887081\n"
     ]
    },
    {
     "data": {
      "image/png": "[encoded data removed]",
      "text/plain": [
       "<Figure size 640x480 with 2 Axes>"
      ]
     },
     "metadata": {},
     "output_type": "display_data"
    }
   ],
   "source": [
    "cm_bow = confusion_matrix(y_test, prd)\n",
    "display = ConfusionMatrixDisplay(confusion_matrix=cm_bow)\n",
    "display.plot()\n",
    "\n",
    "#print('Accuracy: ', ( (cm_bow[0][0]+cm_bow[1][1]) / (cm_bow[0][0]+cm_bow[0][1]+cm_bow[1][0]+cm_bow[1][1])))\n",
    "print(\"Accuracy: \", accuracy_score(y_test,prd))"
   ]
  },
  {
   "cell_type": "code",
   "execution_count": null,
   "id": "7110f499",
   "metadata": {},
   "outputs": [],
   "source": []
  }
 ],
 "metadata": {
  "kernelspec": {
   "display_name": "Python 3 (ipykernel)",
   "language": "python",
   "name": "python3"
  },
  "language_info": {
   "codemirror_mode": {
    "name": "ipython",
    "version": 3
   },
   "file_extension": ".py",
   "mimetype": "text/x-python",
   "name": "python",
   "nbconvert_exporter": "python",
   "pygments_lexer": "ipython3",
   "version": "3.10.9"
  }
 },
 "nbformat": 4,
 "nbformat_minor": 5
}

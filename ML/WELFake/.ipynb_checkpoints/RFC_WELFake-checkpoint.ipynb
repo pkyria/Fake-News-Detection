{
 "cells": [
  {
   "cell_type": "code",
   "execution_count": 1,
   "id": "8ab7ec7e",
   "metadata": {},
   "outputs": [],
   "source": [
    "import pandas as pd\n",
    "import numpy as np\n",
    "from sklearn.model_selection import train_test_split\n",
    "from sklearn.feature_extraction.text import CountVectorizer, TfidfVectorizer\n",
    "from sklearn import preprocessing\n",
    "from sklearn.metrics import accuracy_score, classification_report, roc_auc_score\n",
    "import matplotlib.pyplot as plt\n",
    "import matplotlib.colors as mcolors\n",
    "import seaborn as sns\n",
    "import joblib\n",
    "\n",
    "import spacy\n",
    "import contractions\n",
    "import string\n",
    "import re\n",
    "from bs4 import BeautifulSoup\n",
    "from unidecode import unidecode\n",
    "import nltk\n",
    "import swifter\n",
    "from nltk.corpus import stopwords\n",
    "#nltk.download('stopwords')\n",
    "#nltk.download('punkt')\n",
    "#nltk.download('wordnet')\n",
    "#nltk.download('omw-1.4')\n",
    "\n",
    "from sklearn.pipeline import Pipeline\n",
    "from transformers import AutoTokenizer\n",
    "from nltk.stem import WordNetLemmatizer\n",
    "from sklearn.feature_extraction.text import CountVectorizer, TfidfVectorizer\n",
    "from sklearn.metrics import confusion_matrix , classification_report, ConfusionMatrixDisplay\n",
    "from multiprocessing import Pool\n",
    "from sklearn.feature_extraction.text import HashingVectorizer\n",
    "\n",
    "\n",
    "from sklearn.ensemble import RandomForestClassifier\n",
    "from sklearn.model_selection import GridSearchCV\n"
   ]
  },
  {
   "cell_type": "code",
   "execution_count": 2,
   "id": "6a9d13ec",
   "metadata": {},
   "outputs": [],
   "source": [
    "df = pd.read_csv('C:/Users/outlul/Desktop/Πτυχιακη/Code/Datasets/WELFake_Cleaned.csv')"
   ]
  },
  {
   "cell_type": "code",
   "execution_count": 3,
   "id": "6438ecaf",
   "metadata": {},
   "outputs": [],
   "source": [
    "df.dropna(inplace=True)"
   ]
  },
  {
   "cell_type": "code",
   "execution_count": 4,
   "id": "c386c101",
   "metadata": {},
   "outputs": [],
   "source": [
    "X = df['text']\n",
    "y = df['label']\n",
    "\n",
    "X_train, X_test, y_train, y_test = train_test_split(X, y, test_size = 0.3, random_state = 40)"
   ]
  },
  {
   "cell_type": "code",
   "execution_count": 5,
   "id": "e3e063d0",
   "metadata": {},
   "outputs": [
    {
     "name": "stdout",
     "output_type": "stream",
     "text": [
      "<class 'pandas.core.frame.DataFrame'>\n",
      "Int64Index: 71341 entries, 0 to 71350\n",
      "Data columns (total 2 columns):\n",
      " #   Column  Non-Null Count  Dtype \n",
      "---  ------  --------------  ----- \n",
      " 0   label   71341 non-null  int64 \n",
      " 1   text    71341 non-null  object\n",
      "dtypes: int64(1), object(1)\n",
      "memory usage: 1.6+ MB\n"
     ]
    }
   ],
   "source": [
    "df.info()"
   ]
  },
  {
   "cell_type": "code",
   "execution_count": 6,
   "id": "50afa517",
   "metadata": {},
   "outputs": [],
   "source": [
    "vectorizer = CountVectorizer(ngram_range=(1,1), stop_words='english')\n",
    "X_train_bow = vectorizer.fit_transform(X_train)\n",
    "X_test_bow = vectorizer.transform(X_test)\n",
    "\n",
    "X_train_bow = preprocessing.normalize(X_train_bow)\n",
    "X_test_bow = preprocessing.normalize(X_test_bow)"
   ]
  },
  {
   "cell_type": "code",
   "execution_count": 7,
   "id": "d5ae7ec6",
   "metadata": {},
   "outputs": [
    {
     "name": "stdout",
     "output_type": "stream",
     "text": [
      "The most optimal parameters for RandomForestClassifier are:  {'criterion': 'entropy', 'max_depth': 10, 'n_estimators': 300}\n",
      "The precision that model can reach for the current model 85.31977453749546\n"
     ]
    }
   ],
   "source": [
    "# -------------- Grid Search CV --------------\n",
    "\n",
    "#testing_parameters = { \n",
    "#                        'n_estimators': [50,100,200,300],\n",
    "#                        'criterion': ['gini', 'entropy'],\n",
    "#                        'max_depth': [4,6,8,10],\n",
    " #                                         }\n",
    "#\n",
    "#model_random_search = GridSearchCV(estimator=RandomForestClassifier(), param_grid=testing_parameters, cv=5)\n",
    "#model_random_search.fit(X_train_bow, y_train)\n",
    "\n",
    "#print(\"The most optimal parameters for RandomForestClassifier are: \",model_random_search.best_params_)\n",
    "#print(\"The precision that model can reach for the current model\",model_random_search.best_score_*100) \n",
    "\n",
    "#The most optimal parameters for RandomForestClassifier are:  {'criterion': 'entropy', 'max_depth': 10, 'n_estimators': 300}\n",
    "#The precision that model can reach for the current model 85.31977453749546"
   ]
  },
  {
   "cell_type": "code",
   "execution_count": 17,
   "id": "df38d4d1",
   "metadata": {},
   "outputs": [],
   "source": [
    "RFC = RandomForestClassifier(criterion='entropy', max_depth= 10, n_estimators= 300)\n",
    "RFC.fit(X_train_bow, y_train)\n",
    "\n",
    "prd_RFC = RFC.predict(X_test_bow)"
   ]
  },
  {
   "cell_type": "code",
   "execution_count": 18,
   "id": "39f76455",
   "metadata": {},
   "outputs": [
    {
     "name": "stdout",
     "output_type": "stream",
     "text": [
      "              precision    recall  f1-score   support\n",
      "\n",
      "           0       0.90      0.77      0.83     10544\n",
      "           1       0.81      0.92      0.86     10859\n",
      "\n",
      "    accuracy                           0.85     21403\n",
      "   macro avg       0.85      0.85      0.85     21403\n",
      "weighted avg       0.85      0.85      0.85     21403\n",
      "\n"
     ]
    }
   ],
   "source": [
    "print(classification_report(y_test, prd_RFC))"
   ]
  },
  {
   "cell_type": "code",
   "execution_count": 19,
   "id": "489258d5",
   "metadata": {},
   "outputs": [],
   "source": [
    "from sklearn.metrics import accuracy_score, confusion_matrix, precision_score, recall_score, classification_report, ConfusionMatrixDisplay"
   ]
  },
  {
   "cell_type": "code",
   "execution_count": 20,
   "id": "62513058",
   "metadata": {},
   "outputs": [],
   "source": [
    "binary_predictions = []\n",
    "\n",
    "for i in prd_RFC:\n",
    "    if i >= 0.5:\n",
    "        binary_predictions.append(1)\n",
    "    else:\n",
    "        binary_predictions.append(0) "
   ]
  },
  {
   "cell_type": "code",
   "execution_count": 21,
   "id": "3988eaab",
   "metadata": {},
   "outputs": [
    {
     "name": "stdout",
     "output_type": "stream",
     "text": [
      "Accuracy on testing set: 0.8464233985889829\n",
      "Precision on testing set: 0.9195137673818952\n",
      "Recall on testing set: 0.8053718341668011\n"
     ]
    },
    {
     "data": {
      "image/png": "[encoded data removed]",
      "text/plain": [
       "<Figure size 1600x1000 with 2 Axes>"
      ]
     },
     "metadata": {},
     "output_type": "display_data"
    }
   ],
   "source": [
    "matrix = confusion_matrix(binary_predictions, y_test, normalize='all')\n",
    "plt.figure(figsize=(16, 10))\n",
    "ax= plt.subplot()\n",
    "sns.heatmap(matrix, annot=True, ax = ax)\n",
    "\n",
    "ax.set_xlabel('Predicted Labels', size=20)\n",
    "ax.set_ylabel('True Labels', size=20)\n",
    "ax.set_title('Confusion Matrix', size=20) \n",
    "ax.xaxis.set_ticklabels([0,1], size=15)\n",
    "ax.yaxis.set_ticklabels([0,1], size=15)\n",
    "\n",
    "print('Accuracy on testing set:', accuracy_score(binary_predictions, y_test))\n",
    "print('Precision on testing set:', precision_score(binary_predictions, y_test))\n",
    "print('Recall on testing set:', recall_score(binary_predictions, y_test))"
   ]
  },
  {
   "cell_type": "code",
   "execution_count": null,
   "id": "794d623e",
   "metadata": {},
   "outputs": [],
   "source": []
  }
 ],
 "metadata": {
  "kernelspec": {
   "display_name": "Python 3 (ipykernel)",
   "language": "python",
   "name": "python3"
  },
  "language_info": {
   "codemirror_mode": {
    "name": "ipython",
    "version": 3
   },
   "file_extension": ".py",
   "mimetype": "text/x-python",
   "name": "python",
   "nbconvert_exporter": "python",
   "pygments_lexer": "ipython3",
   "version": "3.10.9"
  }
 },
 "nbformat": 4,
 "nbformat_minor": 5
}

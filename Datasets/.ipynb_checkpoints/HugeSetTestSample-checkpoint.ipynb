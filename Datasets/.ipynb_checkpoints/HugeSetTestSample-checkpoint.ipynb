{
 "cells": [
  {
   "cell_type": "code",
   "execution_count": 1,
   "id": "fd1fca07",
   "metadata": {},
   "outputs": [],
   "source": [
    "import pandas as pd\n",
    "import numpy as np"
   ]
  },
  {
   "cell_type": "code",
   "execution_count": 2,
   "id": "09143bfe",
   "metadata": {},
   "outputs": [],
   "source": [
    "test = pd.read_csv('D:/HugeDatasetWhole_labelsFakeReal.csv')"
   ]
  },
  {
   "cell_type": "code",
   "execution_count": 21,
   "id": "26218b8e",
   "metadata": {},
   "outputs": [
    {
     "data": {
      "text/html": [
       "<div>\n",
       "<style scoped>\n",
       "    .dataframe tbody tr th:only-of-type {\n",
       "        vertical-align: middle;\n",
       "    }\n",
       "\n",
       "    .dataframe tbody tr th {\n",
       "        vertical-align: top;\n",
       "    }\n",
       "\n",
       "    .dataframe thead th {\n",
       "        text-align: right;\n",
       "    }\n",
       "</style>\n",
       "<table border=\"1\" class=\"dataframe\">\n",
       "  <thead>\n",
       "    <tr style=\"text-align: right;\">\n",
       "      <th></th>\n",
       "      <th>label</th>\n",
       "      <th>text</th>\n",
       "    </tr>\n",
       "  </thead>\n",
       "  <tbody>\n",
       "    <tr>\n",
       "      <th>1341789</th>\n",
       "      <td>Real</td>\n",
       "      <td>paid notice deaths peabody joseph haven peabod...</td>\n",
       "    </tr>\n",
       "    <tr>\n",
       "      <th>410938</th>\n",
       "      <td>Fake</td>\n",
       "      <td>nwv news man sues publishers over bible verses...</td>\n",
       "    </tr>\n",
       "    <tr>\n",
       "      <th>1856040</th>\n",
       "      <td>Real</td>\n",
       "      <td>diners guide diners guide presents excerpts fr...</td>\n",
       "    </tr>\n",
       "    <tr>\n",
       "      <th>656888</th>\n",
       "      <td>Fake</td>\n",
       "      <td>the truth division join us and help combat the...</td>\n",
       "    </tr>\n",
       "    <tr>\n",
       "      <th>485480</th>\n",
       "      <td>Fake</td>\n",
       "      <td>day trading course buyers remorse day trading ...</td>\n",
       "    </tr>\n",
       "  </tbody>\n",
       "</table>\n",
       "</div>"
      ],
      "text/plain": [
       "        label                                               text\n",
       "1341789  Real  paid notice deaths peabody joseph haven peabod...\n",
       "410938   Fake  nwv news man sues publishers over bible verses...\n",
       "1856040  Real  diners guide diners guide presents excerpts fr...\n",
       "656888   Fake  the truth division join us and help combat the...\n",
       "485480   Fake  day trading course buyers remorse day trading ..."
      ]
     },
     "execution_count": 21,
     "metadata": {},
     "output_type": "execute_result"
    }
   ],
   "source": [
    "val_df = test.sample(n= 10000)\n",
    "\n",
    "val_df.head()"
   ]
  },
  {
   "cell_type": "code",
   "execution_count": 22,
   "id": "c6d2525a",
   "metadata": {},
   "outputs": [
    {
     "data": {
      "text/plain": [
       "Real    6865\n",
       "Fake    3135\n",
       "Name: label, dtype: int64"
      ]
     },
     "execution_count": 22,
     "metadata": {},
     "output_type": "execute_result"
    }
   ],
   "source": [
    "val_df['label'].value_counts()"
   ]
  },
  {
   "cell_type": "code",
   "execution_count": 23,
   "id": "6408f7cc",
   "metadata": {},
   "outputs": [],
   "source": [
    "lab_df = val_df"
   ]
  },
  {
   "cell_type": "code",
   "execution_count": 24,
   "id": "1a67411a",
   "metadata": {},
   "outputs": [
    {
     "data": {
      "text/html": [
       "<div>\n",
       "<style scoped>\n",
       "    .dataframe tbody tr th:only-of-type {\n",
       "        vertical-align: middle;\n",
       "    }\n",
       "\n",
       "    .dataframe tbody tr th {\n",
       "        vertical-align: top;\n",
       "    }\n",
       "\n",
       "    .dataframe thead th {\n",
       "        text-align: right;\n",
       "    }\n",
       "</style>\n",
       "<table border=\"1\" class=\"dataframe\">\n",
       "  <thead>\n",
       "    <tr style=\"text-align: right;\">\n",
       "      <th></th>\n",
       "      <th>label</th>\n",
       "      <th>text</th>\n",
       "    </tr>\n",
       "  </thead>\n",
       "  <tbody>\n",
       "    <tr>\n",
       "      <th>1341789</th>\n",
       "      <td>0</td>\n",
       "      <td>paid notice deaths peabody joseph haven peabod...</td>\n",
       "    </tr>\n",
       "    <tr>\n",
       "      <th>410938</th>\n",
       "      <td>1</td>\n",
       "      <td>nwv news man sues publishers over bible verses...</td>\n",
       "    </tr>\n",
       "    <tr>\n",
       "      <th>1856040</th>\n",
       "      <td>0</td>\n",
       "      <td>diners guide diners guide presents excerpts fr...</td>\n",
       "    </tr>\n",
       "    <tr>\n",
       "      <th>656888</th>\n",
       "      <td>1</td>\n",
       "      <td>the truth division join us and help combat the...</td>\n",
       "    </tr>\n",
       "    <tr>\n",
       "      <th>485480</th>\n",
       "      <td>1</td>\n",
       "      <td>day trading course buyers remorse day trading ...</td>\n",
       "    </tr>\n",
       "    <tr>\n",
       "      <th>...</th>\n",
       "      <td>...</td>\n",
       "      <td>...</td>\n",
       "    </tr>\n",
       "    <tr>\n",
       "      <th>257124</th>\n",
       "      <td>1</td>\n",
       "      <td>al duncan will the globalists stop trump befor...</td>\n",
       "    </tr>\n",
       "    <tr>\n",
       "      <th>183885</th>\n",
       "      <td>1</td>\n",
       "      <td>it is possible supporting legal immigration an...</td>\n",
       "    </tr>\n",
       "    <tr>\n",
       "      <th>2408491</th>\n",
       "      <td>0</td>\n",
       "      <td>senior goldman executive is said to be set to ...</td>\n",
       "    </tr>\n",
       "    <tr>\n",
       "      <th>1172656</th>\n",
       "      <td>0</td>\n",
       "      <td>update valeant shares sink as company warns of...</td>\n",
       "    </tr>\n",
       "    <tr>\n",
       "      <th>869410</th>\n",
       "      <td>1</td>\n",
       "      <td>politicians show their gratitude where it coun...</td>\n",
       "    </tr>\n",
       "  </tbody>\n",
       "</table>\n",
       "<p>100 rows × 2 columns</p>\n",
       "</div>"
      ],
      "text/plain": [
       "         label                                               text\n",
       "1341789      0  paid notice deaths peabody joseph haven peabod...\n",
       "410938       1  nwv news man sues publishers over bible verses...\n",
       "1856040      0  diners guide diners guide presents excerpts fr...\n",
       "656888       1  the truth division join us and help combat the...\n",
       "485480       1  day trading course buyers remorse day trading ...\n",
       "...        ...                                                ...\n",
       "257124       1  al duncan will the globalists stop trump befor...\n",
       "183885       1  it is possible supporting legal immigration an...\n",
       "2408491      0  senior goldman executive is said to be set to ...\n",
       "1172656      0  update valeant shares sink as company warns of...\n",
       "869410       1  politicians show their gratitude where it coun...\n",
       "\n",
       "[100 rows x 2 columns]"
      ]
     },
     "execution_count": 24,
     "metadata": {},
     "output_type": "execute_result"
    }
   ],
   "source": [
    "lab_df['label'] = lab_df['label'].replace({'Fake' : 1, 'Real' : 0})\n",
    "\n",
    "lab_df.head(100)"
   ]
  },
  {
   "cell_type": "code",
   "execution_count": 25,
   "id": "b596bfa9",
   "metadata": {},
   "outputs": [
    {
     "data": {
      "text/html": [
       "<div>\n",
       "<style scoped>\n",
       "    .dataframe tbody tr th:only-of-type {\n",
       "        vertical-align: middle;\n",
       "    }\n",
       "\n",
       "    .dataframe tbody tr th {\n",
       "        vertical-align: top;\n",
       "    }\n",
       "\n",
       "    .dataframe thead th {\n",
       "        text-align: right;\n",
       "    }\n",
       "</style>\n",
       "<table border=\"1\" class=\"dataframe\">\n",
       "  <thead>\n",
       "    <tr style=\"text-align: right;\">\n",
       "      <th></th>\n",
       "      <th>label</th>\n",
       "      <th>text</th>\n",
       "    </tr>\n",
       "  </thead>\n",
       "  <tbody>\n",
       "    <tr>\n",
       "      <th>1341789</th>\n",
       "      <td>0</td>\n",
       "      <td>paid notice deaths peabody joseph haven peabod...</td>\n",
       "    </tr>\n",
       "    <tr>\n",
       "      <th>410938</th>\n",
       "      <td>1</td>\n",
       "      <td>nwv news man sues publishers over bible verses...</td>\n",
       "    </tr>\n",
       "    <tr>\n",
       "      <th>1856040</th>\n",
       "      <td>0</td>\n",
       "      <td>diners guide diners guide presents excerpts fr...</td>\n",
       "    </tr>\n",
       "    <tr>\n",
       "      <th>656888</th>\n",
       "      <td>1</td>\n",
       "      <td>the truth division join us and help combat the...</td>\n",
       "    </tr>\n",
       "    <tr>\n",
       "      <th>485480</th>\n",
       "      <td>1</td>\n",
       "      <td>day trading course buyers remorse day trading ...</td>\n",
       "    </tr>\n",
       "    <tr>\n",
       "      <th>...</th>\n",
       "      <td>...</td>\n",
       "      <td>...</td>\n",
       "    </tr>\n",
       "    <tr>\n",
       "      <th>257124</th>\n",
       "      <td>1</td>\n",
       "      <td>al duncan will the globalists stop trump befor...</td>\n",
       "    </tr>\n",
       "    <tr>\n",
       "      <th>183885</th>\n",
       "      <td>1</td>\n",
       "      <td>it is possible supporting legal immigration an...</td>\n",
       "    </tr>\n",
       "    <tr>\n",
       "      <th>2408491</th>\n",
       "      <td>0</td>\n",
       "      <td>senior goldman executive is said to be set to ...</td>\n",
       "    </tr>\n",
       "    <tr>\n",
       "      <th>1172656</th>\n",
       "      <td>0</td>\n",
       "      <td>update valeant shares sink as company warns of...</td>\n",
       "    </tr>\n",
       "    <tr>\n",
       "      <th>869410</th>\n",
       "      <td>1</td>\n",
       "      <td>politicians show their gratitude where it coun...</td>\n",
       "    </tr>\n",
       "  </tbody>\n",
       "</table>\n",
       "<p>100 rows × 2 columns</p>\n",
       "</div>"
      ],
      "text/plain": [
       "         label                                               text\n",
       "1341789      0  paid notice deaths peabody joseph haven peabod...\n",
       "410938       1  nwv news man sues publishers over bible verses...\n",
       "1856040      0  diners guide diners guide presents excerpts fr...\n",
       "656888       1  the truth division join us and help combat the...\n",
       "485480       1  day trading course buyers remorse day trading ...\n",
       "...        ...                                                ...\n",
       "257124       1  al duncan will the globalists stop trump befor...\n",
       "183885       1  it is possible supporting legal immigration an...\n",
       "2408491      0  senior goldman executive is said to be set to ...\n",
       "1172656      0  update valeant shares sink as company warns of...\n",
       "869410       1  politicians show their gratitude where it coun...\n",
       "\n",
       "[100 rows x 2 columns]"
      ]
     },
     "execution_count": 25,
     "metadata": {},
     "output_type": "execute_result"
    }
   ],
   "source": [
    "val_df.head(100)"
   ]
  },
  {
   "cell_type": "code",
   "execution_count": 26,
   "id": "1aa678fc",
   "metadata": {},
   "outputs": [
    {
     "data": {
      "text/plain": [
       "0    6865\n",
       "1    3135\n",
       "Name: label, dtype: int64"
      ]
     },
     "execution_count": 26,
     "metadata": {},
     "output_type": "execute_result"
    }
   ],
   "source": [
    "lab_df['label'].value_counts()"
   ]
  },
  {
   "cell_type": "code",
   "execution_count": 27,
   "id": "416b3f68",
   "metadata": {},
   "outputs": [],
   "source": [
    "lab_df.to_csv('HugeDatasetPredictSample.csv', index=False)"
   ]
  },
  {
   "cell_type": "code",
   "execution_count": null,
   "id": "d9bbf73c",
   "metadata": {},
   "outputs": [],
   "source": []
  }
 ],
 "metadata": {
  "kernelspec": {
   "display_name": "Python 3 (ipykernel)",
   "language": "python",
   "name": "python3"
  },
  "language_info": {
   "codemirror_mode": {
    "name": "ipython",
    "version": 3
   },
   "file_extension": ".py",
   "mimetype": "text/x-python",
   "name": "python",
   "nbconvert_exporter": "python",
   "pygments_lexer": "ipython3",
   "version": "3.10.9"
  }
 },
 "nbformat": 4,
 "nbformat_minor": 5
}

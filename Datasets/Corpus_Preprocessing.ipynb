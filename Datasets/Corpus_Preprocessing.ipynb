{
 "cells": [
  {
   "cell_type": "code",
   "execution_count": 1,
   "id": "fd1fca07",
   "metadata": {},
   "outputs": [],
   "source": [
    "import pandas as pd\n",
    "import numpy as np\n"
   ]
  },
  {
   "cell_type": "code",
   "execution_count": 2,
   "id": "09143bfe",
   "metadata": {},
   "outputs": [],
   "source": [
    "test = pd.read_csv('E:/FakeNewsCorpus.csv')"
   ]
  },
  {
   "cell_type": "code",
   "execution_count": 3,
   "id": "26218b8e",
   "metadata": {},
   "outputs": [
    {
     "data": {
      "text/html": [
       "<div>\n",
       "<style scoped>\n",
       "    .dataframe tbody tr th:only-of-type {\n",
       "        vertical-align: middle;\n",
       "    }\n",
       "\n",
       "    .dataframe tbody tr th {\n",
       "        vertical-align: top;\n",
       "    }\n",
       "\n",
       "    .dataframe thead th {\n",
       "        text-align: right;\n",
       "    }\n",
       "</style>\n",
       "<table border=\"1\" class=\"dataframe\">\n",
       "  <thead>\n",
       "    <tr style=\"text-align: right;\">\n",
       "      <th></th>\n",
       "      <th>label</th>\n",
       "      <th>text</th>\n",
       "    </tr>\n",
       "  </thead>\n",
       "  <tbody>\n",
       "    <tr>\n",
       "      <th>0</th>\n",
       "      <td>Fake</td>\n",
       "      <td>surprise socialist hotbed of venezuela has los...</td>\n",
       "    </tr>\n",
       "    <tr>\n",
       "      <th>1</th>\n",
       "      <td>Fake</td>\n",
       "      <td>water cooler open thread fake news cnn still w...</td>\n",
       "    </tr>\n",
       "    <tr>\n",
       "      <th>2</th>\n",
       "      <td>Fake</td>\n",
       "      <td>veteran commentator calls out the growing ethn...</td>\n",
       "    </tr>\n",
       "    <tr>\n",
       "      <th>3</th>\n",
       "      <td>Fake</td>\n",
       "      <td>lost words hidden words otters banks and books...</td>\n",
       "    </tr>\n",
       "    <tr>\n",
       "      <th>4</th>\n",
       "      <td>Fake</td>\n",
       "      <td>red alert bond yields are screaming inflation ...</td>\n",
       "    </tr>\n",
       "  </tbody>\n",
       "</table>\n",
       "</div>"
      ],
      "text/plain": [
       "  label                                               text\n",
       "0  Fake  surprise socialist hotbed of venezuela has los...\n",
       "1  Fake  water cooler open thread fake news cnn still w...\n",
       "2  Fake  veteran commentator calls out the growing ethn...\n",
       "3  Fake  lost words hidden words otters banks and books...\n",
       "4  Fake  red alert bond yields are screaming inflation ..."
      ]
     },
     "execution_count": 3,
     "metadata": {},
     "output_type": "execute_result"
    }
   ],
   "source": [
    "test.head()"
   ]
  },
  {
   "cell_type": "code",
   "execution_count": 4,
   "id": "80eacd9c",
   "metadata": {},
   "outputs": [],
   "source": [
    "test['label'] = test['label'].replace({'Fake' : 1, 'Real' : 0})"
   ]
  },
  {
   "cell_type": "code",
   "execution_count": 5,
   "id": "c6d2525a",
   "metadata": {},
   "outputs": [
    {
     "data": {
      "text/plain": [
       "0    1913218\n",
       "1     894737\n",
       "Name: label, dtype: int64"
      ]
     },
     "execution_count": 5,
     "metadata": {},
     "output_type": "execute_result"
    }
   ],
   "source": [
    "test['label'].value_counts()"
   ]
  },
  {
   "cell_type": "code",
   "execution_count": 6,
   "id": "d9bbf73c",
   "metadata": {},
   "outputs": [],
   "source": [
    "test.to_csv('E:/FakeNewsCorpus_Preprocessed.csv', index=False)"
   ]
  },
  {
   "cell_type": "code",
   "execution_count": 9,
   "id": "1baed8c9",
   "metadata": {},
   "outputs": [],
   "source": [
    "news_df = pd.read_csv('E:/FakeNewsCorpus_Preprocessed.csv')"
   ]
  },
  {
   "cell_type": "code",
   "execution_count": 10,
   "id": "0d223262",
   "metadata": {},
   "outputs": [
    {
     "data": {
      "text/html": [
       "<div>\n",
       "<style scoped>\n",
       "    .dataframe tbody tr th:only-of-type {\n",
       "        vertical-align: middle;\n",
       "    }\n",
       "\n",
       "    .dataframe tbody tr th {\n",
       "        vertical-align: top;\n",
       "    }\n",
       "\n",
       "    .dataframe thead th {\n",
       "        text-align: right;\n",
       "    }\n",
       "</style>\n",
       "<table border=\"1\" class=\"dataframe\">\n",
       "  <thead>\n",
       "    <tr style=\"text-align: right;\">\n",
       "      <th></th>\n",
       "      <th>label</th>\n",
       "      <th>text</th>\n",
       "    </tr>\n",
       "  </thead>\n",
       "  <tbody>\n",
       "    <tr>\n",
       "      <th>2807950</th>\n",
       "      <td>0</td>\n",
       "      <td>corruption with a chance of meatballs photo ma...</td>\n",
       "    </tr>\n",
       "    <tr>\n",
       "      <th>2807951</th>\n",
       "      <td>0</td>\n",
       "      <td>volatility rattles stocks and investors who be...</td>\n",
       "    </tr>\n",
       "    <tr>\n",
       "      <th>2807952</th>\n",
       "      <td>0</td>\n",
       "      <td>as of in public housing lost heat a demand for...</td>\n",
       "    </tr>\n",
       "    <tr>\n",
       "      <th>2807953</th>\n",
       "      <td>0</td>\n",
       "      <td>who said it pepe le pew or donald trump he has...</td>\n",
       "    </tr>\n",
       "    <tr>\n",
       "      <th>2807954</th>\n",
       "      <td>0</td>\n",
       "      <td>toads eat beetles sometimes beetles make them ...</td>\n",
       "    </tr>\n",
       "  </tbody>\n",
       "</table>\n",
       "</div>"
      ],
      "text/plain": [
       "         label                                               text\n",
       "2807950      0  corruption with a chance of meatballs photo ma...\n",
       "2807951      0  volatility rattles stocks and investors who be...\n",
       "2807952      0  as of in public housing lost heat a demand for...\n",
       "2807953      0  who said it pepe le pew or donald trump he has...\n",
       "2807954      0  toads eat beetles sometimes beetles make them ..."
      ]
     },
     "execution_count": 10,
     "metadata": {},
     "output_type": "execute_result"
    }
   ],
   "source": [
    "news_df.tail()"
   ]
  },
  {
   "cell_type": "code",
   "execution_count": 11,
   "id": "da7c7b82",
   "metadata": {},
   "outputs": [],
   "source": [
    "from sklearn.utils import shuffle"
   ]
  },
  {
   "cell_type": "code",
   "execution_count": 12,
   "id": "bf337634",
   "metadata": {},
   "outputs": [
    {
     "name": "stdout",
     "output_type": "stream",
     "text": [
      "New Dataset Class Distribution:\n",
      "0    0.55\n",
      "1    0.45\n",
      "Name: label, dtype: float64\n"
     ]
    }
   ],
   "source": [
    "fake_data = df[df['label'] == 1]\n",
    "real_data = df[df['label'] == 0]\n",
    "\n",
    "num_fake_samples = 45000\n",
    "num_real_samples = 55000\n",
    "\n",
    "fake_samples = fake_data.sample(n=num_fake_samples, random_state=56)\n",
    "real_samples = real_data.sample(n=num_real_samples, random_state=56)\n",
    "\n",
    "news_df = pd.concat([fake_samples, real_samples], ignore_index=True)\n",
    "news_df = shuffle(news_df, random_state=56)\n",
    "news_df = news_df.reset_index(drop=True)\n",
    "\n",
    "class_distribution = news_df['label'].value_counts(normalize=True)\n",
    "print(\"New Dataset Class Distribution:\")\n",
    "print(class_distribution)"
   ]
  },
  {
   "cell_type": "code",
   "execution_count": 13,
   "id": "0c6f15e0",
   "metadata": {},
   "outputs": [
    {
     "data": {
      "text/plain": [
       "0    55000\n",
       "1    45000\n",
       "Name: label, dtype: int64"
      ]
     },
     "execution_count": 13,
     "metadata": {},
     "output_type": "execute_result"
    }
   ],
   "source": [
    "news_df['label'].value_counts()"
   ]
  },
  {
   "cell_type": "code",
   "execution_count": 14,
   "id": "e0787871",
   "metadata": {},
   "outputs": [],
   "source": [
    "news_df.to_csv('E:/FakeNewsCorpus_Sample_100k.csv', index=False)"
   ]
  },
  {
   "cell_type": "code",
   "execution_count": null,
   "id": "5130bc33",
   "metadata": {},
   "outputs": [],
   "source": []
  }
 ],
 "metadata": {
  "kernelspec": {
   "display_name": "Python 3 (ipykernel)",
   "language": "python",
   "name": "python3"
  },
  "language_info": {
   "codemirror_mode": {
    "name": "ipython",
    "version": 3
   },
   "file_extension": ".py",
   "mimetype": "text/x-python",
   "name": "python",
   "nbconvert_exporter": "python",
   "pygments_lexer": "ipython3",
   "version": "3.10.9"
  }
 },
 "nbformat": 4,
 "nbformat_minor": 5
}
